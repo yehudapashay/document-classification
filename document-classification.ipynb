{
 "nbformat": 4,
 "nbformat_minor": 0,
 "metadata": {
  "colab": {
   "name": "319272589_205855240_v1.ipynb",
   "provenance": [],
   "collapsed_sections": [],
   "toc_visible": true
  },
  "kernelspec": {
   "name": "python3",
   "language": "python",
   "display_name": "Python 3"
  },
  "pycharm": {
   "stem_cell": {
    "cell_type": "raw",
    "source": [],
    "metadata": {
     "collapsed": false
    }
   }
  }
 },
 "cells": [
  {
   "cell_type": "markdown",
   "metadata": {
    "id": "1Wf8zoM5C_lA",
    "colab_type": "text"
   },
   "source": [
    "# **Text pre-processing and exploration:**"
   ]
  },
  {
   "cell_type": "code",
   "metadata": {
    "id": "po1ggYFXf8Dr",
    "colab_type": "code",
    "outputId": "1f5f7c55-097c-406d-f103-2c65608693d6",
    "colab": {
     "base_uri": "https://localhost:8080/",
     "height": 158
    },
    "pycharm": {
     "is_executing": false
    }
   },
   "source": [
    "import nltk\n",
    "import os\n",
    "import string \n",
    "import pandas as pd\n",
    "import matplotlib.pyplot as plt\n",
    "\n",
    "from pathlib import Path\n",
    "from nltk.tokenize import sent_tokenize, word_tokenize\n",
    "from nltk.corpus import stopwords, state_union\n",
    "from nltk.stem import PorterStemmer\n",
    "from collections import defaultdict\n",
    "from pathlib import Path\n",
    "\n",
    "nltk.download(\"stopwords\")\n",
    "nltk.download('punkt')\n",
    "nltk.download('wordnet')\n",
    "nltk.download('state_union')\n",
    "\n",
    "dataset_folder_path = Path( \"C:\\\\Users\\\\Lior\\\\Desktop\\\\dataset_hw2\")\n",
    "training_file_name = \"train_hw2.txt\"\n",
    "test_file_name = \"test_hw2.txt\"\n",
    "\n",
    "tokens_to_remove = list(string.punctuation)\n",
    "stop_words = set(stopwords.words(\"english\")+tokens_to_remove)\n",
    "#stop_words = set(stopwords.words(\"english\"))\n",
    "lemmatizer = nltk.WordNetLemmatizer()\n",
    "ps = PorterStemmer()\n",
    "\n",
    "terms_per_category = defaultdict(lambda: defaultdict(int))\n",
    "documents_per_category = defaultdict(int)\n",
    "common_words_dict = defaultdict(int)\n",
    "\n",
    "\n"
   ],
   "execution_count": 24,
   "outputs": [
    {
     "name": "stderr",
     "text": [
      "[nltk_data] Downloading package stopwords to\n[nltk_data]     C:\\Users\\Lior\\AppData\\Roaming\\nltk_data...\n[nltk_data]   Package stopwords is already up-to-date!\n[nltk_data] Downloading package punkt to\n[nltk_data]     C:\\Users\\Lior\\AppData\\Roaming\\nltk_data...\n[nltk_data]   Package punkt is already up-to-date!\n[nltk_data] Downloading package wordnet to\n[nltk_data]     C:\\Users\\Lior\\AppData\\Roaming\\nltk_data...\n[nltk_data]   Package wordnet is already up-to-date!\n[nltk_data] Downloading package state_union to\n[nltk_data]     C:\\Users\\Lior\\AppData\\Roaming\\nltk_data...\n[nltk_data]   Package state_union is already up-to-date!\n"
     ],
     "output_type": "stream"
    }
   ]
  },
  {
   "cell_type": "code",
   "metadata": {
    "id": "BtBxH4WU10qn",
    "colab_type": "code",
    "outputId": "ade6dee5-cb06-442f-ad53-ee86684aaa04",
    "colab": {
     "resources": {
      "http://localhost:8080/nbextensions/google.colab/files.js": {
       "data": "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",
       "ok": true,
       "headers": [
        [
         "content-type",
         "application/javascript"
        ]
       ],
       "status": 200,
       "status_text": ""
      }
     },
     "base_uri": "https://localhost:8080/",
     "height": 108
    },
    "pycharm": {
     "is_executing": false,
     "name": "#%%                                                                                   \n"
    }
   },
   "source": [
    "train_file_to_open = dataset_folder_path / training_file_name                              \n",
    "source_train_file = open(train_file_to_open)\n",
    "training_data = source_train_file.readlines()                                           \n",
    "\n",
    "test_file_to_open = dataset_folder_path / test_file_name\n",
    "source_test_file = open(test_file_to_open)\n",
    "test_data =source_test_file.readlines()"
   ],
   "execution_count": 25,
   "outputs": []
  },
  {
   "cell_type": "code",
   "metadata": {
    "id": "X8SUEKES5Y8Y",
    "colab_type": "code",
    "colab": {},
    "pycharm": {
     "is_executing": false
    }
   },
   "source": [
    "def clean(input_data):\n",
    "  cleaned_file = pd.DataFrame(columns=['data','target'])\n",
    "  for raw in input_data:\n",
    "    if not raw:\n",
    "      continue\n",
    "    #----------------------Lower-Case-------------------------------------------------#\n",
    "    raw = raw.lower()\n",
    "    #----------------------Tokenize---------------------------------------------------#\n",
    "    word_tokens = word_tokenize(raw)\n",
    "    #----------------------Remove-stopwords-------------------------------------------#\n",
    "    filtered_sentence = [w for w in word_tokens if not w in stop_words]\n",
    "    #----------------------Stemming---------------------------------------------------#\n",
    "    raw_category = filtered_sentence.pop(0)\n",
    "    cleaned_sentence = \"\"\n",
    "    documents_per_category[raw_category] += 1 \n",
    "    for word in filtered_sentence:\n",
    "        stemmed_word = ps.stem(word)\n",
    "        cleaned_sentence += stemmed_word +\" \"\n",
    "        terms_per_category[raw_category][stemmed_word] += 1  \n",
    "    cleaned_file.loc[len(cleaned_file.index)]=[cleaned_sentence[:-1],raw_category]\n",
    "  return cleaned_file\n"
   ],
   "execution_count": 26,
   "outputs": []
  },
  {
   "cell_type": "code",
   "metadata": {
    "id": "ZoiNqKFvlUiL",
    "colab_type": "code",
    "colab": {},
    "pycharm": {
     "is_executing": false
    }
   },
   "source": [
    "def clear_dictionaries():\n",
    "  terms_per_category.clear()\n",
    "  documents_per_category.clear()"
   ],
   "execution_count": 27,
   "outputs": []
  },
  {
   "cell_type": "markdown",
   "metadata": {
    "id": "kEvHVPAgqRbM",
    "colab_type": "text"
   },
   "source": [
    "**Create dataset description table**"
   ]
  },
  {
   "cell_type": "code",
   "metadata": {
    "id": "uyQnLAOendR8",
    "colab_type": "code",
    "colab": {},
    "pycharm": {
     "is_executing": false
    }
   },
   "source": [
    "#training_path = os.path.join(dataset_folder_path, training_file_name)\n",
    "clear_dictionaries()\n",
    "processed_training_data = clean(training_data)\n",
    "dataset_description = pd.DataFrame(sorted(documents_per_category.items()), columns=['Category', '#train docs'])\n",
    "clear_dictionaries()\n",
    "processed_test_data = clean(test_data)\n",
    "dataset_description['#test docs'] = dict(sorted(documents_per_category.items())).values()\n",
    "clean(training_data)\n",
    "dataset_description['Total #docs'] = dict(sorted(documents_per_category.items())).values()\n",
    "\n",
    "\n"
   ],
   "execution_count": 28,
   "outputs": []
  },
  {
   "cell_type": "markdown",
   "metadata": {
    "id": "68AxtTqwPnm1",
    "colab_type": "text"
   },
   "source": [
    "# **Explore the dataset**"
   ]
  },
  {
   "cell_type": "markdown",
   "metadata": {
    "id": "L4iNKz9CPkrq",
    "colab_type": "text"
   },
   "source": [
    "**Amount of categories**"
   ]
  },
  {
   "cell_type": "code",
   "metadata": {
    "id": "CDqYB0qAK6PI",
    "colab_type": "code",
    "outputId": "5b8c88db-41d2-47fd-f4f4-77ad67b6e45d",
    "colab": {
     "base_uri": "https://localhost:8080/",
     "height": 305
    },
    "pycharm": {
     "is_executing": false
    }
   },
   "source": [
    "print (\"Amount of categories is:  %d\" % (len(documents_per_category)))\n",
    "\n",
    "categories_list = []\n",
    "for category in documents_per_category:\n",
    "  categories_list.append(category)\n",
    "\n",
    "df = pd.DataFrame(categories_list, columns=['Category'])\n",
    "\n",
    "df"
   ],
   "execution_count": 29,
   "outputs": [
    {
     "name": "stdout",
     "text": [
      "Amount of categories is:  8\n"
     ],
     "output_type": "stream"
    },
    {
     "data": {
      "text/plain": "   Category\n0     trade\n1     grain\n2      ship\n3       acq\n4      earn\n5  money-fx\n6  interest\n7     crude",
      "text/html": "<div>\n<style scoped>\n    .dataframe tbody tr th:only-of-type {\n        vertical-align: middle;\n    }\n\n    .dataframe tbody tr th {\n        vertical-align: top;\n    }\n\n    .dataframe thead th {\n        text-align: right;\n    }\n</style>\n<table border=\"1\" class=\"dataframe\">\n  <thead>\n    <tr style=\"text-align: right;\">\n      <th></th>\n      <th>Category</th>\n    </tr>\n  </thead>\n  <tbody>\n    <tr>\n      <th>0</th>\n      <td>trade</td>\n    </tr>\n    <tr>\n      <th>1</th>\n      <td>grain</td>\n    </tr>\n    <tr>\n      <th>2</th>\n      <td>ship</td>\n    </tr>\n    <tr>\n      <th>3</th>\n      <td>acq</td>\n    </tr>\n    <tr>\n      <th>4</th>\n      <td>earn</td>\n    </tr>\n    <tr>\n      <th>5</th>\n      <td>money-fx</td>\n    </tr>\n    <tr>\n      <th>6</th>\n      <td>interest</td>\n    </tr>\n    <tr>\n      <th>7</th>\n      <td>crude</td>\n    </tr>\n  </tbody>\n</table>\n</div>"
     },
     "metadata": {},
     "output_type": "execute_result",
     "execution_count": 29
    }
   ]
  },
  {
   "cell_type": "markdown",
   "metadata": {
    "id": "C6pHUlG2Pdys",
    "colab_type": "text"
   },
   "source": [
    "**Amount of documents from each category**"
   ]
  },
  {
   "cell_type": "code",
   "metadata": {
    "id": "tcWy9VpTPQLs",
    "colab_type": "code",
    "outputId": "7ea01b99-1b34-4770-9d30-fc6d8a787d66",
    "colab": {
     "base_uri": "https://localhost:8080/",
     "height": 287
    },
    "pycharm": {
     "is_executing": false
    }
   },
   "source": [
    "dataset_description\n"
   ],
   "execution_count": 30,
   "outputs": [
    {
     "data": {
      "text/plain": "   Category  #train docs  #test docs  Total #docs\n0       acq         1596         696         2292\n1     crude          253         121          374\n2      earn         2840        1083         3923\n3     grain           41          10           51\n4  interest          190          81          271\n5  money-fx          206          87          293\n6      ship          108          36          144\n7     trade          251          75          326",
      "text/html": "<div>\n<style scoped>\n    .dataframe tbody tr th:only-of-type {\n        vertical-align: middle;\n    }\n\n    .dataframe tbody tr th {\n        vertical-align: top;\n    }\n\n    .dataframe thead th {\n        text-align: right;\n    }\n</style>\n<table border=\"1\" class=\"dataframe\">\n  <thead>\n    <tr style=\"text-align: right;\">\n      <th></th>\n      <th>Category</th>\n      <th>#train docs</th>\n      <th>#test docs</th>\n      <th>Total #docs</th>\n    </tr>\n  </thead>\n  <tbody>\n    <tr>\n      <th>0</th>\n      <td>acq</td>\n      <td>1596</td>\n      <td>696</td>\n      <td>2292</td>\n    </tr>\n    <tr>\n      <th>1</th>\n      <td>crude</td>\n      <td>253</td>\n      <td>121</td>\n      <td>374</td>\n    </tr>\n    <tr>\n      <th>2</th>\n      <td>earn</td>\n      <td>2840</td>\n      <td>1083</td>\n      <td>3923</td>\n    </tr>\n    <tr>\n      <th>3</th>\n      <td>grain</td>\n      <td>41</td>\n      <td>10</td>\n      <td>51</td>\n    </tr>\n    <tr>\n      <th>4</th>\n      <td>interest</td>\n      <td>190</td>\n      <td>81</td>\n      <td>271</td>\n    </tr>\n    <tr>\n      <th>5</th>\n      <td>money-fx</td>\n      <td>206</td>\n      <td>87</td>\n      <td>293</td>\n    </tr>\n    <tr>\n      <th>6</th>\n      <td>ship</td>\n      <td>108</td>\n      <td>36</td>\n      <td>144</td>\n    </tr>\n    <tr>\n      <th>7</th>\n      <td>trade</td>\n      <td>251</td>\n      <td>75</td>\n      <td>326</td>\n    </tr>\n  </tbody>\n</table>\n</div>"
     },
     "metadata": {},
     "output_type": "execute_result",
     "execution_count": 30
    }
   ]
  },
  {
   "cell_type": "markdown",
   "metadata": {
    "id": "a114D95BSSy0",
    "colab_type": "text"
   },
   "source": [
    "**Terms distribution per category**"
   ]
  },
  {
   "cell_type": "code",
   "metadata": {
    "id": "R_kIdlSRjmz5",
    "colab_type": "code",
    "colab": {},
    "pycharm": {
     "is_executing": false
    }
   },
   "source": [
    "def print_table_by_category(category, sorted_top_ten):\n",
    "    print ('_' * 37)\n",
    "    for word in dict(sorted_top_ten).keys():\n",
    "      common_words_dict[word] += 1\n",
    "    df = pd.DataFrame(sorted_top_ten, columns=['Category', '#of 10 top terms']) \n",
    "    print ('Top 10 terms for category : '+ category)\n",
    "    print ('_' * 37)\n",
    "    print (df)"
   ],
   "execution_count": 31,
   "outputs": []
  },
  {
   "cell_type": "code",
   "metadata": {
    "id": "LmywfMcOKmuH",
    "colab_type": "code",
    "colab": {},
    "pycharm": {
     "is_executing": true
    }
   },
   "source": [
    "def print_plot_per_category_by_term(category, input):\n",
    "    instances_threshold = 50\n",
    "    dict_input = (dict((k, v) for k, v in input.items() if v >= instances_threshold)) \n",
    "    dict_input = {k: v for k, v in sorted(dict_input.items(), key=lambda item: item[1], reverse=True)}\n",
    "    plt.title(\"Term Frequency per term in category: \" + str(category))\n",
    "    plt.xlabel('Term')\n",
    "    plt.ylabel('Term Frequency')\n",
    "    plt.bar(list(dict_input.keys()), height = dict_input.values(), width= 2, color='g')\n",
    "    plt.show()\n"
   ],
   "execution_count": null,
   "outputs": []
  },
  {
   "cell_type": "code",
   "metadata": {
    "id": "0fr4mmzs5iNi",
    "colab_type": "code",
    "colab": {},
    "pycharm": {
     "is_executing": false
    }
   },
   "source": [
    "def print_plot_per_category_by_instances(category, input):\n",
    "    count_frequency_dict = dict()\n",
    "    instances_threshold = 5\n",
    "    max_val = max(input.values()) + 1\n",
    "    for i in range(max_val):\n",
    "      count_frequency_dict[i] = 0\n",
    "    for term in input:\n",
    "        count_frequency_dict[input[term]] += 1\n",
    "    dict_input = (dict((k, v) for k, v in count_frequency_dict.items() if v >= instances_threshold)) \n",
    "    dict_input = {k: v for k, v in sorted(dict_input.items(), key=lambda item: item[1], reverse=True)}\n",
    "    plt.title(\"Count different Frequencies in category: \" + str(category))\n",
    "    plt.xlabel('Frequency')\n",
    "    plt.ylabel('Count')\n",
    "    plt.bar(list(dict_input.keys()), dict_input.values(), color='b')\n",
    "    plt.show()"
   ],
   "execution_count": 33,
   "outputs": []
  },
  {
   "cell_type": "code",
   "metadata": {
    "id": "wUfMb5WYSY3V",
    "colab_type": "code",
    "outputId": "1169aec4-6ff5-4dae-f58f-d55d864992f4",
    "colab": {
     "base_uri": "https://localhost:8080/",
     "height": 1000
    },
    "pycharm": {
     "is_executing": false
    }
   },
   "source": [
    "common_words_dict.clear()\n",
    "for category in sorted(terms_per_category):\n",
    "  sorted_top_ten = sorted(terms_per_category[category].items(), key=lambda item: item[1] , reverse=True)[:10]\n",
    "  print_table_by_category(category, sorted_top_ten)\n",
    "  print_plot_per_category_by_term(category, dict(terms_per_category[category]))\n",
    "  print_plot_per_category_by_instances(category, dict(terms_per_category[category]))"
   ],
   "execution_count": 34,
   "outputs": [
    {
     "name": "stdout",
     "text": [
      "_____________________________________\nTop 10 terms for category : acq\n_____________________________________\n  Category  #of 10 top terms\n0     said              6726\n1    share              3190\n2      dlr              2982\n3  compani              2638\n4   reuter              2143\n5      mln              2103\n6      inc              1997\n7      pct              1852\n8    offer              1604\n9     corp              1572\n",
      "_____________________________________\nTop 10 terms for category : crude\n_____________________________________\n  Category  #of 10 top terms\n0      oil              1507\n1     said              1453\n2    price               697\n3      dlr               540\n4     opec               528\n5    crude               505\n6   barrel               492\n7      mln               492\n8      bpd               394\n9   reuter               364\n",
      "_____________________________________\nTop 10 terms for category : earn\n_____________________________________\n  Category  #of 10 top terms\n0       vs             14110\n1      mln             11275\n2       ct              8030\n3      net              6609\n4      dlr              6327\n5     loss              5192\n6      shr              5158\n7   reuter              3757\n8     year              3204\n9     said              3186\n",
      "_____________________________________\nTop 10 terms for category : grain\n_____________________________________\n     Category  #of 10 top terms\n0        said               197\n1       grain               181\n2        year                76\n3         mln                70\n4      certif                62\n5        crop                57\n6      reuter                51\n7      offici                51\n8  agricultur                50\n9       would                49\n",
      "_____________________________________\nTop 10 terms for category : interest\n_____________________________________\n   Category  #of 10 top terms\n0      rate               948\n1       pct               752\n2      bank               697\n3      said               622\n4  interest               228\n5       cut               220\n6    market               214\n7    reuter               207\n8     prime               186\n9       day               185\n",
      "_____________________________________\nTop 10 terms for category : money-fx\n_____________________________________\n  Category  #of 10 top terms\n0     said               884\n1     bank               572\n2   market               413\n3        u               361\n4   dollar               354\n5  currenc               337\n6     rate               327\n7  exchang               308\n8      mln               283\n9   reuter               263\n",
      "_____________________________________\nTop 10 terms for category : ship\n_____________________________________\n  Category  #of 10 top terms\n0     said               432\n1     ship               238\n2   reuter               160\n3     port               148\n4        u               119\n5   strike               116\n6     gulf               105\n7    would                85\n8    union                84\n9   vessel                82\n",
      "_____________________________________\nTop 10 terms for category : trade\n_____________________________________\n  Category  #of 10 top terms\n0    trade              1592\n1     said              1366\n2        u               991\n3    japan               600\n4  billion               503\n5    would               433\n6     year               409\n7      dlr               407\n8   export               374\n9  japanes               357\n"
     ],
     "output_type": "stream"
    },
    {
     "data": {
      "text/plain": "<Figure size 432x288 with 1 Axes>",
      "image/png": "[encoded data removed]"
     },
     "metadata": {
      "needs_background": "light"
     },
     "output_type": "display_data"
    },
    {
     "data": {
      "text/plain": "<Figure size 432x288 with 1 Axes>",
      "image/png": "[encoded data removed]"
     },
     "metadata": {
      "needs_background": "light"
     },
     "output_type": "display_data"
    },
    {
     "data": {
      "text/plain": "<Figure size 432x288 with 1 Axes>",
      "image/png": "[encoded data removed]"
     },
     "metadata": {
      "needs_background": "light"
     },
     "output_type": "display_data"
    },
    {
     "data": {
      "text/plain": "<Figure size 432x288 with 1 Axes>",
      "image/png": "[encoded data removed]"
     },
     "metadata": {
      "needs_background": "light"
     },
     "output_type": "display_data"
    },
    {
     "data": {
      "text/plain": "<Figure size 432x288 with 1 Axes>",
      "image/png": "[encoded data removed]"
     },
     "metadata": {
      "needs_background": "light"
     },
     "output_type": "display_data"
    },
    {
     "data": {
      "text/plain": "<Figure size 432x288 with 1 Axes>",
      "image/png": "[encoded data removed]"
     },
     "metadata": {
      "needs_background": "light"
     },
     "output_type": "display_data"
    },
    {
     "data": {
      "text/plain": "<Figure size 432x288 with 1 Axes>",
      "image/png": "[encoded data removed]"
     },
     "metadata": {
      "needs_background": "light"
     },
     "output_type": "display_data"
    },
    {
     "data": {
      "text/plain": "<Figure size 432x288 with 1 Axes>",
      "image/png": "[encoded data removed]"
     },
     "metadata": {
      "needs_background": "light"
     },
     "output_type": "display_data"
    },
    {
     "data": {
      "text/plain": "<Figure size 432x288 with 1 Axes>",
      "image/png": "[encoded data removed]"
     },
     "metadata": {
      "needs_background": "light"
     },
     "output_type": "display_data"
    },
    {
     "data": {
      "text/plain": "<Figure size 432x288 with 1 Axes>",
      "image/png": "[encoded data removed]"
     },
     "metadata": {
      "needs_background": "light"
     },
     "output_type": "display_data"
    },
    {
     "data": {
      "text/plain": "<Figure size 432x288 with 1 Axes>",
      "image/png": "[encoded data removed]"
     },
     "metadata": {
      "needs_background": "light"
     },
     "output_type": "display_data"
    },
    {
     "data": {
      "text/plain": "<Figure size 432x288 with 1 Axes>",
      "image/png": "[encoded data removed]"
     },
     "metadata": {
      "needs_background": "light"
     },
     "output_type": "display_data"
    },
    {
     "data": {
      "text/plain": "<Figure size 432x288 with 1 Axes>",
      "image/png": "[encoded data removed]"
     },
     "metadata": {
      "needs_background": "light"
     },
     "output_type": "display_data"
    },
    {
     "data": {
      "text/plain": "<Figure size 432x288 with 1 Axes>",
      "image/png": "[encoded data removed]"
     },
     "metadata": {
      "needs_background": "light"
     },
     "output_type": "display_data"
    },
    {
     "data": {
      "text/plain": "<Figure size 432x288 with 1 Axes>",
      "image/png": "[encoded data removed]"
     },
     "metadata": {
      "needs_background": "light"
     },
     "output_type": "display_data"
    },
    {
     "data": {
      "text/plain": "<Figure size 432x288 with 1 Axes>",
      "image/png": "[encoded data removed]"
     },
     "metadata": {
      "needs_background": "light"
     },
     "output_type": "display_data"
    }
   ]
  },
  {
   "cell_type": "markdown",
   "metadata": {
    "id": "EgNPBJQx0quL",
    "colab_type": "text"
   },
   "source": [
    "**Check for common words in multiple categories**\n",
    "\n",
    "While checking the most common words in each category we have found some words that are frequent in more than half of them. So, we can remove these common words by adding them to stop words' list.\n"
   ]
  },
  {
   "cell_type": "code",
   "metadata": {
    "id": "MjlcQ64C0qFc",
    "colab_type": "code",
    "colab": {},
    "pycharm": {
     "is_executing": false
    }
   },
   "source": [
    "additional_stop_words= []\n",
    "\n",
    "for common_word in common_words_dict.keys():\n",
    "  if common_words_dict[common_word] >= (len(categories_list) * 1/2 ):\n",
    "    additional_stop_words.append(common_word)\n",
    "\n",
    "for word in additional_stop_words:\n",
    "  stop_words.add(word)\n",
    "\n",
    "\n"
   ],
   "execution_count": 35,
   "outputs": []
  },
  {
   "cell_type": "markdown",
   "metadata": {
    "id": "g7fZXoTAxqic",
    "colab_type": "text"
   },
   "source": [
    "# **Expected Challenges**\n",
    "The expected challenges are:\n",
    "1.   Some categories have common words that are among the most common words for the category. Such words can not help us to distinguish between the class (category) of the categories.\n",
    "2.   Difficulties in finding suitable libraries and adapting to using Python language.\n",
    "3.   Dealing with machine learning algorithms and parameter tuning to achieve maximum accuracy value.\n",
    "\n",
    "\n",
    "\n"
   ]
  },
  {
   "cell_type": "markdown",
   "metadata": {
    "id": "2XKb6p38CxFc",
    "colab_type": "text"
   },
   "source": [
    "# **Document Classification**"
   ]
  },
  {
   "cell_type": "markdown",
   "metadata": {
    "id": "SeDsgnGzDgHa",
    "colab_type": "text"
   },
   "source": [
    "**Text feature extraction**"
   ]
  },
  {
   "cell_type": "code",
   "metadata": {
    "id": "DV-dfG0ZC8Sm",
    "colab_type": "code",
    "colab": {},
    "pycharm": {
     "is_executing": false
    }
   },
   "source": [
    "from sklearn.feature_extraction.text import TfidfVectorizer,CountVectorizer\n",
    "\n",
    "def process_vectorizer(name):\n",
    "  print(\"Extracting features from the training data using a sparse vectorizer\")\n",
    "  if name == 'TfidfVectorizer':\n",
    "    vectorizer = TfidfVectorizer(sublinear_tf=True, max_df=0.5,\n",
    "                                 stop_words=stop_words)\n",
    "  else:\n",
    "    vectorizer = CountVectorizer()\n",
    "  X_train = vectorizer.fit_transform(processed_training_data.data)\n",
    "  print(\"Extracting features from the test data using the same vectorizer\")\n",
    "  X_test = vectorizer.transform(processed_test_data.data)\n",
    "  return X_train,X_test\n",
    "\n",
    "\n",
    "\n",
    "\n"
   ],
   "execution_count": 36,
   "outputs": []
  },
  {
   "cell_type": "markdown",
   "metadata": {
    "id": "XyQXXPEWdc06",
    "colab_type": "text"
   },
   "source": [
    "**Benchmark classifiers**"
   ]
  },
  {
   "cell_type": "code",
   "metadata": {
    "id": "bTugE34vdFUW",
    "colab_type": "code",
    "colab": {},
    "pycharm": {
     "is_executing": false
    }
   },
   "source": [
    "from sklearn import metrics\n",
    "\n",
    "results =  pd.DataFrame(columns=['Classifier', 'Vectorizer', 'Accuracy'])\n",
    "results.iloc[0:0]\n",
    "\n",
    "def benchmark(clf,X_train,X_test):\n",
    "    print('_' * 80)\n",
    "    print(\"Training: \")\n",
    "    print(clf)\n",
    "    clf.fit(X_train, processed_training_data.target)\n",
    "    pred = clf.predict(X_test)\n",
    "    score = metrics.accuracy_score(processed_test_data.target, pred)\n",
    "    print(\"accuracy:   %0.3f\" % score)\n",
    "    print()\n",
    "    return score\n",
    "\n"
   ],
   "execution_count": 37,
   "outputs": []
  },
  {
   "cell_type": "markdown",
   "metadata": {
    "id": "8mi9MSUhe6T6",
    "colab_type": "text"
   },
   "source": [
    "**SVM**"
   ]
  },
  {
   "cell_type": "code",
   "metadata": {
    "id": "CE5afatket2q",
    "colab_type": "code",
    "outputId": "04c1441d-25da-40fc-ab06-18984af8af0d",
    "colab": {
     "base_uri": "https://localhost:8080/",
     "height": 454
    },
    "pycharm": {
     "is_executing": false
    }
   },
   "source": [
    "from sklearn.linear_model import SGDClassifier\n",
    "\n",
    "print(\"SVM\")\n",
    "X_train,X_test = process_vectorizer(\"TfidfVectorizer\")\n",
    "svm_score = benchmark(SGDClassifier(),X_train,X_test)\n",
    "results.loc[len(results.index)]=[\"SVM\",\"TfidfVectorizer\",svm_score]\n",
    "print(\"_\"*80)\n",
    "X_train,X_test = process_vectorizer(\"CountVectorizer\")\n",
    "svm_score = benchmark(SGDClassifier(),X_train,X_test)\n",
    "results.loc[len(results.index)]=[\"SVM\",\"CountVectorizer\",svm_score]"
   ],
   "execution_count": 38,
   "outputs": [
    {
     "name": "stdout",
     "text": [
      "SVM\nExtracting features from the training data using a sparse vectorizer\n",
      "Extracting features from the test data using the same vectorizer\n",
      "________________________________________________________________________________\nTraining: \nSGDClassifier(alpha=0.0001, average=False, class_weight=None,\n              early_stopping=False, epsilon=0.1, eta0=0.0, fit_intercept=True,\n              l1_ratio=0.15, learning_rate='optimal', loss='hinge',\n              max_iter=1000, n_iter_no_change=5, n_jobs=None, penalty='l2',\n              power_t=0.5, random_state=None, shuffle=True, tol=0.001,\n              validation_fraction=0.1, verbose=0, warm_start=False)\naccuracy:   0.976\n\n________________________________________________________________________________\nExtracting features from the training data using a sparse vectorizer\n",
      "Extracting features from the test data using the same vectorizer\n",
      "________________________________________________________________________________\nTraining: \nSGDClassifier(alpha=0.0001, average=False, class_weight=None,\n              early_stopping=False, epsilon=0.1, eta0=0.0, fit_intercept=True,\n              l1_ratio=0.15, learning_rate='optimal', loss='hinge',\n              max_iter=1000, n_iter_no_change=5, n_jobs=None, penalty='l2',\n              power_t=0.5, random_state=None, shuffle=True, tol=0.001,\n              validation_fraction=0.1, verbose=0, warm_start=False)\n",
      "accuracy:   0.974\n\n"
     ],
     "output_type": "stream"
    }
   ]
  },
  {
   "cell_type": "markdown",
   "metadata": {
    "id": "jRx-nDiEhRIM",
    "colab_type": "text"
   },
   "source": [
    "**Naive Bayes**"
   ]
  },
  {
   "cell_type": "code",
   "metadata": {
    "id": "NpXa3u3Mg80n",
    "colab_type": "code",
    "outputId": "821d43c1-37a1-4851-c2b2-0d2005d8c46c",
    "colab": {
     "base_uri": "https://localhost:8080/",
     "height": 286
    },
    "pycharm": {
     "is_executing": false
    }
   },
   "source": [
    "from sklearn.naive_bayes import MultinomialNB\n",
    "\n",
    "print(\"Naive Bayes\")\n",
    "X_train,X_test = process_vectorizer(\"TfidfVectorizer\")\n",
    "nb_score = benchmark(MultinomialNB(),X_train,X_test)\n",
    "results.loc[len(results.index)]=[\"Naive Bayes\",\"TfidfVectorizer\",nb_score]\n",
    "print(\"_\"*80)\n",
    "X_train,X_test =process_vectorizer(\"CountVectorizer\")\n",
    "nb_score = benchmark(MultinomialNB(),X_train,X_test)\n",
    "results.loc[len(results.index)]=[\"Naive Bayes\",\"CountVectorizer\",nb_score]"
   ],
   "execution_count": 39,
   "outputs": [
    {
     "name": "stdout",
     "text": [
      "Naive Bayes\nExtracting features from the training data using a sparse vectorizer\n",
      "Extracting features from the test data using the same vectorizer\n",
      "________________________________________________________________________________\nTraining: \nMultinomialNB(alpha=1.0, class_prior=None, fit_prior=True)\naccuracy:   0.844\n\n________________________________________________________________________________\nExtracting features from the training data using a sparse vectorizer\n",
      "Extracting features from the test data using the same vectorizer\n",
      "________________________________________________________________________________\nTraining: \nMultinomialNB(alpha=1.0, class_prior=None, fit_prior=True)\naccuracy:   0.961\n\n"
     ],
     "output_type": "stream"
    }
   ]
  },
  {
   "cell_type": "markdown",
   "metadata": {
    "id": "4nfrP7gMh76o",
    "colab_type": "text"
   },
   "source": [
    "**Perceptron**"
   ]
  },
  {
   "cell_type": "code",
   "metadata": {
    "id": "NGHf8WSjhrnP",
    "colab_type": "code",
    "outputId": "8e1c1cd9-331a-4956-feb2-11554d335438",
    "colab": {
     "base_uri": "https://localhost:8080/",
     "height": 386
    },
    "pycharm": {
     "is_executing": false
    }
   },
   "source": [
    "from sklearn.linear_model import Perceptron\n",
    "\n",
    "print(\"Perceptron\")\n",
    "X_train,X_test = process_vectorizer(\"TfidfVectorizer\")\n",
    "perceptron_score = benchmark(Perceptron(),X_train,X_test)\n",
    "results.loc[len(results.index)]=[\"Perceptron\",\"TfidfVectorizer\",perceptron_score]\n",
    "print(\"_\"*80)\n",
    "X_train,X_test = process_vectorizer(\"CountVectorizer\")\n",
    "perceptron_score = benchmark(Perceptron(),X_train,X_test)\n",
    "results.loc[len(results.index)]=[\"Perceptron\",\"CountVectorizer\",perceptron_score]"
   ],
   "execution_count": 40,
   "outputs": [
    {
     "name": "stdout",
     "text": [
      "Perceptron\nExtracting features from the training data using a sparse vectorizer\n",
      "Extracting features from the test data using the same vectorizer\n",
      "________________________________________________________________________________\nTraining: \nPerceptron(alpha=0.0001, class_weight=None, early_stopping=False, eta0=1.0,\n           fit_intercept=True, max_iter=1000, n_iter_no_change=5, n_jobs=None,\n           penalty=None, random_state=0, shuffle=True, tol=0.001,\n           validation_fraction=0.1, verbose=0, warm_start=False)\naccuracy:   0.965\n\n________________________________________________________________________________\nExtracting features from the training data using a sparse vectorizer\n",
      "Extracting features from the test data using the same vectorizer\n",
      "________________________________________________________________________________\nTraining: \nPerceptron(alpha=0.0001, class_weight=None, early_stopping=False, eta0=1.0,\n           fit_intercept=True, max_iter=1000, n_iter_no_change=5, n_jobs=None,\n           penalty=None, random_state=0, shuffle=True, tol=0.001,\n           validation_fraction=0.1, verbose=0, warm_start=False)\n",
      "accuracy:   0.964\n\n"
     ],
     "output_type": "stream"
    }
   ]
  },
  {
   "cell_type": "markdown",
   "metadata": {
    "id": "EFYTp3esj82z",
    "colab_type": "text"
   },
   "source": [
    "**Decision Tree**"
   ]
  },
  {
   "cell_type": "code",
   "metadata": {
    "id": "G_rJ79BGj6aZ",
    "colab_type": "code",
    "outputId": "3cba5408-15ab-4ccd-d169-587d35ed38c7",
    "colab": {
     "base_uri": "https://localhost:8080/",
     "height": 454
    },
    "pycharm": {
     "is_executing": false
    }
   },
   "source": [
    "from sklearn.tree import DecisionTreeClassifier\n",
    "\n",
    "print(\"Decision Tree\")\n",
    "X_train,X_test = process_vectorizer(\"TfidfVectorizer\")\n",
    "decisionTree_score = benchmark(DecisionTreeClassifier(),X_train,X_test)\n",
    "results.loc[len(results.index)]=[\"Decision Tree\",\"TfidfVectorizer\",decisionTree_score]\n",
    "print(\"_\"*80)\n",
    "X_train,X_test = process_vectorizer(\"CountVectorizer\")\n",
    "decisionTree_score = benchmark(DecisionTreeClassifier(),X_train,X_test)\n",
    "results.loc[len(results.index)]=[\"Decision Tree\",\"CountVectorizer\",decisionTree_score]"
   ],
   "execution_count": 41,
   "outputs": [
    {
     "name": "stdout",
     "text": [
      "Decision Tree\nExtracting features from the training data using a sparse vectorizer\n",
      "Extracting features from the test data using the same vectorizer\n",
      "________________________________________________________________________________\nTraining: \nDecisionTreeClassifier(class_weight=None, criterion='gini', max_depth=None,\n                       max_features=None, max_leaf_nodes=None,\n                       min_impurity_decrease=0.0, min_impurity_split=None,\n                       min_samples_leaf=1, min_samples_split=2,\n                       min_weight_fraction_leaf=0.0, presort=False,\n                       random_state=None, splitter='best')\n",
      "accuracy:   0.896\n\n________________________________________________________________________________\nExtracting features from the training data using a sparse vectorizer\n",
      "Extracting features from the test data using the same vectorizer\n",
      "________________________________________________________________________________\nTraining: \nDecisionTreeClassifier(class_weight=None, criterion='gini', max_depth=None,\n                       max_features=None, max_leaf_nodes=None,\n                       min_impurity_decrease=0.0, min_impurity_split=None,\n                       min_samples_leaf=1, min_samples_split=2,\n                       min_weight_fraction_leaf=0.0, presort=False,\n                       random_state=None, splitter='best')\n",
      "accuracy:   0.914\n\n"
     ],
     "output_type": "stream"
    }
   ]
  },
  {
   "cell_type": "markdown",
   "metadata": {
    "id": "NLEBAdas0ooQ",
    "colab_type": "text"
   },
   "source": [
    "# **Comparison between different models**"
   ]
  },
  {
   "cell_type": "code",
   "metadata": {
    "id": "v5yrlAWR0o8p",
    "colab_type": "code",
    "outputId": "f28180ad-0d99-438b-dc4c-3ce1b6c142ec",
    "colab": {
     "base_uri": "https://localhost:8080/",
     "height": 284
    },
    "pycharm": {
     "is_executing": false
    }
   },
   "source": [
    "results"
   ],
   "execution_count": 45,
   "outputs": [
    {
     "data": {
      "text/plain": "      Classifier       Vectorizer  Accuracy\n0            SVM  TfidfVectorizer  0.975788\n1            SVM  CountVectorizer  0.973961\n2    Naive Bayes  TfidfVectorizer  0.844221\n3    Naive Bayes  CountVectorizer  0.960713\n4     Perceptron  TfidfVectorizer  0.965281\n5     Perceptron  CountVectorizer  0.964367\n6  Decision Tree  TfidfVectorizer  0.896300\n7  Decision Tree  CountVectorizer  0.914116",
      "text/html": "<div>\n<style scoped>\n    .dataframe tbody tr th:only-of-type {\n        vertical-align: middle;\n    }\n\n    .dataframe tbody tr th {\n        vertical-align: top;\n    }\n\n    .dataframe thead th {\n        text-align: right;\n    }\n</style>\n<table border=\"1\" class=\"dataframe\">\n  <thead>\n    <tr style=\"text-align: right;\">\n      <th></th>\n      <th>Classifier</th>\n      <th>Vectorizer</th>\n      <th>Accuracy</th>\n    </tr>\n  </thead>\n  <tbody>\n    <tr>\n      <th>0</th>\n      <td>SVM</td>\n      <td>TfidfVectorizer</td>\n      <td>0.975788</td>\n    </tr>\n    <tr>\n      <th>1</th>\n      <td>SVM</td>\n      <td>CountVectorizer</td>\n      <td>0.973961</td>\n    </tr>\n    <tr>\n      <th>2</th>\n      <td>Naive Bayes</td>\n      <td>TfidfVectorizer</td>\n      <td>0.844221</td>\n    </tr>\n    <tr>\n      <th>3</th>\n      <td>Naive Bayes</td>\n      <td>CountVectorizer</td>\n      <td>0.960713</td>\n    </tr>\n    <tr>\n      <th>4</th>\n      <td>Perceptron</td>\n      <td>TfidfVectorizer</td>\n      <td>0.965281</td>\n    </tr>\n    <tr>\n      <th>5</th>\n      <td>Perceptron</td>\n      <td>CountVectorizer</td>\n      <td>0.964367</td>\n    </tr>\n    <tr>\n      <th>6</th>\n      <td>Decision Tree</td>\n      <td>TfidfVectorizer</td>\n      <td>0.896300</td>\n    </tr>\n    <tr>\n      <th>7</th>\n      <td>Decision Tree</td>\n      <td>CountVectorizer</td>\n      <td>0.914116</td>\n    </tr>\n  </tbody>\n</table>\n</div>"
     },
     "metadata": {},
     "output_type": "execute_result",
     "execution_count": 45
    }
   ]
  },
  {
   "cell_type": "markdown",
   "metadata": {
    "id": "AJuD9aQgtVOB",
    "colab_type": "text"
   },
   "source": [
    "**Optimization imports**"
   ]
  },
  {
   "cell_type": "code",
   "metadata": {
    "id": "xP7YUmD7tRCP",
    "colab_type": "code",
    "colab": {},
    "pycharm": {
     "is_executing": false
    }
   },
   "source": [
    "from sklearn.pipeline import Pipeline\n",
    "from sklearn.model_selection import GridSearchCV\n",
    "\n",
    "optimized =[]\n",
    "optimized =  pd.DataFrame(columns=['Classifier Name', 'Vectorizer Name','Parameters', 'Accuracy'])"
   ],
   "execution_count": 46,
   "outputs": []
  },
  {
   "cell_type": "markdown",
   "metadata": {
    "id": "L3x2lfZZssMU",
    "colab_type": "text"
   },
   "source": [
    "**Optimize the Naive Bayes Classifier -- using TfidfVectorizer**"
   ]
  },
  {
   "cell_type": "code",
   "metadata": {
    "id": "HZeDciw6tMSz",
    "colab_type": "code",
    "outputId": "47aca73a-8c4b-4b4b-82f1-8a337c324e49",
    "colab": {
     "base_uri": "https://localhost:8080/",
     "height": 70
    },
    "pycharm": {
     "is_executing": false
    }
   },
   "source": [
    "nb_clf = Pipeline([('vect', TfidfVectorizer()),('clf', MultinomialNB())])\n",
    "parameters =  {'vect__max_df': (0.3,0.4,0.5,0.6,0.7, 0.75, 1.0),\n",
    "               'vect__sublinear_tf': [True],\n",
    "               'vect__stop_words': [stop_words],\n",
    "               'vect__ngram_range': ((1, 1), (1, 2)),# unigrams or bigrams\n",
    "               'clf__alpha': (0.01,1.0),\n",
    "               'clf__fit_prior':[False, True]}\n",
    "gs_clf = GridSearchCV(nb_clf, parameters, n_jobs=1)\n",
    "gs_clf = gs_clf.fit(processed_training_data.data,processed_training_data.target)\n",
    "optimized.loc[len(optimized.index)]=[\"Naive Bayes\",\"TfidfVectorizer\",gs_clf.best_params_,gs_clf.best_score_]\n"
   ],
   "execution_count": 47,
   "outputs": [
    {
     "name": "stderr",
     "text": [
      "c:\\users\\lior\\appdata\\local\\programs\\python\\python36\\lib\\site-packages\\sklearn\\model_selection\\_split.py:1978: FutureWarning: The default value of cv will change from 3 to 5 in version 0.22. Specify it explicitly to silence this warning.\n  warnings.warn(CV_WARNING, FutureWarning)\n"
     ],
     "output_type": "stream"
    }
   ]
  },
  {
   "cell_type": "markdown",
   "metadata": {
    "id": "sCFW63FrXqxB",
    "colab_type": "text"
   },
   "source": [
    "**Optimize the Naive Bayes Classifier -- using CountVectorizer**"
   ]
  },
  {
   "cell_type": "code",
   "metadata": {
    "id": "jL3NeHT5WCJK",
    "colab_type": "code",
    "outputId": "1a483831-bb88-40c6-b1ec-7b9cfcd483bc",
    "colab": {
     "base_uri": "https://localhost:8080/",
     "height": 70
    },
    "pycharm": {
     "is_executing": false
    }
   },
   "source": [
    "nb_clf = Pipeline([('vect', CountVectorizer()),('clf', MultinomialNB())])\n",
    "parameters =  {'vect__max_df': (0.3,0.4,0.5,0.6,0.7, 0.75, 1.0),\n",
    "               'vect__stop_words': [stop_words],\n",
    "               'vect__ngram_range': ((1, 1), (1, 2)),# unigrams or bigrams\n",
    "               'clf__alpha': (0.01,1.0),\n",
    "               'clf__fit_prior':[False, True]}\n",
    "gs_clf = GridSearchCV(nb_clf, parameters, n_jobs=1)\n",
    "gs_clf = gs_clf.fit(processed_training_data.data,processed_training_data.target)\n",
    "optimized.loc[len(optimized.index)]=[\"Naive Bayes\",\"CountVectorizer\",gs_clf.best_params_,gs_clf.best_score_]"
   ],
   "execution_count": 48,
   "outputs": [
    {
     "name": "stderr",
     "text": [
      "c:\\users\\lior\\appdata\\local\\programs\\python\\python36\\lib\\site-packages\\sklearn\\model_selection\\_split.py:1978: FutureWarning: The default value of cv will change from 3 to 5 in version 0.22. Specify it explicitly to silence this warning.\n  warnings.warn(CV_WARNING, FutureWarning)\n"
     ],
     "output_type": "stream"
    }
   ]
  },
  {
   "cell_type": "markdown",
   "metadata": {
    "id": "kA9voropstBh",
    "colab_type": "text"
   },
   "source": [
    "**Optimize the Decision Tree Classifier -- using TfidfVectorizer**"
   ]
  },
  {
   "cell_type": "code",
   "metadata": {
    "id": "hqRoTNLKkt-X",
    "colab_type": "code",
    "outputId": "2c3a7e84-0f20-49fc-b333-54eb868daeb6",
    "colab": {
     "base_uri": "https://localhost:8080/",
     "height": 70
    },
    "pycharm": {
     "is_executing": false
    }
   },
   "source": [
    "decisionTree_clf = Pipeline([('vect', TfidfVectorizer()),('clf', DecisionTreeClassifier())])\n",
    "parameters =  {'vect__max_df': (0.3,0.4,0.5,0.6,0.7, 0.75, 1.0),\n",
    "               'vect__sublinear_tf': [True],\n",
    "               'vect__stop_words': [stop_words],\n",
    "               'vect__ngram_range': ((1, 1), (1, 2)),# unigrams or bigrams\n",
    "               'clf__criterion':['gini', 'entropy'],\n",
    "               'clf__max_features': ('auto', 'log2')}\n",
    "gs_decisionTree = GridSearchCV(decisionTree_clf, parameters)\n",
    "gs_decisionTree =gs_decisionTree.fit(processed_training_data.data,processed_training_data.target)\n",
    "optimized.loc[len(optimized.index)]=[\"Decision Tree\",\"TfidfVectorizer\",gs_decisionTree.best_params_,gs_decisionTree.best_score_]\n",
    "\n",
    "\n"
   ],
   "execution_count": 49,
   "outputs": [
    {
     "name": "stderr",
     "text": [
      "c:\\users\\lior\\appdata\\local\\programs\\python\\python36\\lib\\site-packages\\sklearn\\model_selection\\_split.py:1978: FutureWarning: The default value of cv will change from 3 to 5 in version 0.22. Specify it explicitly to silence this warning.\n  warnings.warn(CV_WARNING, FutureWarning)\n"
     ],
     "output_type": "stream"
    }
   ]
  },
  {
   "cell_type": "markdown",
   "metadata": {
    "id": "UgUJ8G5BXzQ6",
    "colab_type": "text"
   },
   "source": [
    "**Optimize the Decision Tree Classifier -- using CountVectorizer**"
   ]
  },
  {
   "cell_type": "code",
   "metadata": {
    "id": "MCDTpocgWjA5",
    "colab_type": "code",
    "outputId": "ae96d6b5-c7c9-4454-bcb2-a038524af8cf",
    "colab": {
     "base_uri": "https://localhost:8080/",
     "height": 70
    },
    "pycharm": {
     "is_executing": false
    }
   },
   "source": [
    "decisionTree_clf = Pipeline([('vect', CountVectorizer()),('clf', DecisionTreeClassifier())])\n",
    "parameters =  {'vect__max_df': (0.3,0.4,0.5,0.6,0.7, 0.75, 1.0),\n",
    "               'vect__stop_words': [stop_words],\n",
    "               'vect__ngram_range': ((1, 1), (1, 2)),# unigrams or bigrams\n",
    "               'clf__criterion':['gini', 'entropy'],\n",
    "               'clf__max_features': ('auto', 'log2')}\n",
    "gs_decisionTree = GridSearchCV(decisionTree_clf, parameters)\n",
    "gs_decisionTree =gs_decisionTree.fit(processed_training_data.data,processed_training_data.target)\n",
    "optimized.loc[len(optimized.index)]=[\"Decision Tree\",\"CountVectorizer\",gs_decisionTree.best_params_,gs_decisionTree.best_score_]"
   ],
   "execution_count": 50,
   "outputs": [
    {
     "name": "stderr",
     "text": [
      "c:\\users\\lior\\appdata\\local\\programs\\python\\python36\\lib\\site-packages\\sklearn\\model_selection\\_split.py:1978: FutureWarning: The default value of cv will change from 3 to 5 in version 0.22. Specify it explicitly to silence this warning.\n  warnings.warn(CV_WARNING, FutureWarning)\n"
     ],
     "output_type": "stream"
    }
   ]
  },
  {
   "cell_type": "markdown",
   "metadata": {
    "id": "CHxMqfuPsnte",
    "colab_type": "text"
   },
   "source": [
    "**Optimize the SVM Classifier -- using TfidfVectorizer**"
   ]
  },
  {
   "cell_type": "code",
   "metadata": {
    "id": "-0r0q_GJs8bt",
    "colab_type": "code",
    "outputId": "4b4cc23d-0ab0-4b15-cbb0-5b68db568e58",
    "colab": {
     "base_uri": "https://localhost:8080/",
     "height": 70
    },
    "pycharm": {
     "is_executing": false
    }
   },
   "source": [
    "#from sklearn.externals import joblib\n",
    "sgd_clf = Pipeline([('vect', TfidfVectorizer()),('clf', SGDClassifier())])\n",
    "parameters =  {'vect__max_df': (0.3,0.4,0.5,0.6,0.7, 0.75, 1.0),\n",
    "               'vect__sublinear_tf': [True],\n",
    "               'vect__stop_words': [stop_words],\n",
    "               'vect__ngram_range': ((1, 1), (1, 2)),# unigrams or bigrams\n",
    "               'clf__alpha': (0.0001, 0.001, 0.01), \n",
    "               'clf__penalty': ('l1','l2')}\n",
    "gs_svm = GridSearchCV(sgd_clf, parameters)\n",
    "gs_svm =gs_svm.fit(processed_training_data.data,processed_training_data.target)\n",
    "optimized.loc[len(optimized.index)]=[\"SVM\",\"TfidfVectorizer\",gs_svm.best_params_,gs_svm.best_score_]\n",
    "#joblib.dump(gs_svm.best_estimator_, 'BestModel.pkl', compress = 1)"
   ],
   "execution_count": 60,
   "outputs": [
    {
     "name": "stderr",
     "text": [
      "c:\\users\\lior\\appdata\\local\\programs\\python\\python36\\lib\\site-packages\\sklearn\\model_selection\\_split.py:1978: FutureWarning: The default value of cv will change from 3 to 5 in version 0.22. Specify it explicitly to silence this warning.\n  warnings.warn(CV_WARNING, FutureWarning)\n"
     ],
     "output_type": "stream"
    },
    {
     "data": {
      "text/plain": "['BestModel.pkl']"
     },
     "metadata": {},
     "output_type": "execute_result",
     "execution_count": 60
    }
   ]
  },
  {
   "cell_type": "markdown",
   "metadata": {
    "id": "vavMfVU6X4jf",
    "colab_type": "text"
   },
   "source": [
    "**Optimize the SVM Classifier -- using CountVectorizer**"
   ]
  },
  {
   "cell_type": "code",
   "metadata": {
    "id": "jWmpLyGvWqe_",
    "colab_type": "code",
    "outputId": "724a0bda-2ce0-4a88-86db-f083f24e48de",
    "colab": {
     "base_uri": "https://localhost:8080/",
     "height": 70
    },
    "pycharm": {
     "is_executing": false
    }
   },
   "source": [
    "sgd_clf = Pipeline([('vect', CountVectorizer()),('clf', SGDClassifier())])\n",
    "parameters =  {'vect__max_df': (0.3,0.4,0.5,0.6,0.7, 0.75, 1.0),\n",
    "               'vect__stop_words': [stop_words],\n",
    "               'vect__ngram_range': ((1, 1), (1, 2)),# unigrams or bigrams\n",
    "               'clf__alpha': (0.0001, 0.001, 0.01), \n",
    "               'clf__penalty': ('l1','l2')}\n",
    "gs_svm = GridSearchCV(sgd_clf, parameters)\n",
    "gs_svm =gs_svm.fit(processed_training_data.data,processed_training_data.target)\n",
    "optimized.loc[len(optimized.index)]=[\"SVM\",\"CountVectorizer\",gs_svm.best_params_,gs_svm.best_score_]"
   ],
   "execution_count": 52,
   "outputs": [
    {
     "name": "stderr",
     "text": [
      "c:\\users\\lior\\appdata\\local\\programs\\python\\python36\\lib\\site-packages\\sklearn\\model_selection\\_split.py:1978: FutureWarning: The default value of cv will change from 3 to 5 in version 0.22. Specify it explicitly to silence this warning.\n  warnings.warn(CV_WARNING, FutureWarning)\n"
     ],
     "output_type": "stream"
    }
   ]
  },
  {
   "cell_type": "markdown",
   "metadata": {
    "id": "P55giyDnssql",
    "colab_type": "text"
   },
   "source": [
    "**Optimize the Perceptron Classifier -- using TfidfVectorizer**"
   ]
  },
  {
   "cell_type": "code",
   "metadata": {
    "id": "W0VD7ICI0haY",
    "colab_type": "code",
    "outputId": "8cc37b58-152a-4e0b-932e-7185209da58a",
    "colab": {
     "base_uri": "https://localhost:8080/",
     "height": 70
    },
    "pycharm": {
     "is_executing": false
    }
   },
   "source": [
    "perceptron_clf = Pipeline([('vect', TfidfVectorizer()),('clf', Perceptron())])\n",
    "parameters =  {'vect__max_df': (0.3,0.4,0.5,0.6,0.7, 0.75, 1.0),\n",
    "               'vect__sublinear_tf': [True],\n",
    "               'vect__stop_words': [stop_words],\n",
    "               'vect__ngram_range': ((1, 1), (1, 2)),# unigrams or bigrams\n",
    "               'clf__alpha': (0.0001, 0.001, 0.01), \n",
    "               'clf__penalty': ('l1','l2')}\n",
    "gs_perceptron = GridSearchCV(perceptron_clf, parameters)\n",
    "gs_perceptron =gs_perceptron.fit(processed_training_data.data,processed_training_data.target)\n",
    "optimized.loc[len(optimized.index)]=[\"Perceptron\",\"TfidfVectorizer\",gs_perceptron.best_params_,gs_perceptron.best_score_]"
   ],
   "execution_count": 53,
   "outputs": [
    {
     "name": "stderr",
     "text": [
      "c:\\users\\lior\\appdata\\local\\programs\\python\\python36\\lib\\site-packages\\sklearn\\model_selection\\_split.py:1978: FutureWarning: The default value of cv will change from 3 to 5 in version 0.22. Specify it explicitly to silence this warning.\n  warnings.warn(CV_WARNING, FutureWarning)\n"
     ],
     "output_type": "stream"
    }
   ]
  },
  {
   "cell_type": "markdown",
   "metadata": {
    "id": "NLhxqPUtX97N",
    "colab_type": "text"
   },
   "source": [
    "**Optimize the Perceptron Classifier -- using CountVectorizer**"
   ]
  },
  {
   "cell_type": "code",
   "metadata": {
    "id": "dLC6WSpGW64V",
    "colab_type": "code",
    "outputId": "a91b8e51-4e3e-4fa5-97bf-b26d391ef4f2",
    "colab": {
     "base_uri": "https://localhost:8080/",
     "height": 70
    },
    "pycharm": {
     "is_executing": false
    }
   },
   "source": [
    "perceptron_clf = Pipeline([('vect', CountVectorizer()),('clf', Perceptron())])\n",
    "parameters =  {'vect__max_df': (0.3,0.4,0.5,0.6,0.7, 0.75, 1.0),\n",
    "               'vect__stop_words': [stop_words],\n",
    "               'vect__ngram_range': ((1, 1), (1, 2)),# unigrams or bigrams\n",
    "               'clf__alpha': (0.0001, 0.001, 0.01), \n",
    "               'clf__penalty': ('l1','l2')}\n",
    "gs_perceptron = GridSearchCV(perceptron_clf, parameters)\n",
    "gs_perceptron =gs_perceptron.fit(processed_training_data.data,processed_training_data.target)\n",
    "optimized.loc[len(optimized.index)]=[\"Perceptron\",\"CountVectorizer\",gs_perceptron.best_params_,gs_perceptron.best_score_]"
   ],
   "execution_count": 54,
   "outputs": [
    {
     "name": "stderr",
     "text": [
      "c:\\users\\lior\\appdata\\local\\programs\\python\\python36\\lib\\site-packages\\sklearn\\model_selection\\_split.py:1978: FutureWarning: The default value of cv will change from 3 to 5 in version 0.22. Specify it explicitly to silence this warning.\n  warnings.warn(CV_WARNING, FutureWarning)\n"
     ],
     "output_type": "stream"
    }
   ]
  },
  {
   "cell_type": "code",
   "metadata": {
    "id": "lrzZtnShsjvn",
    "colab_type": "code",
    "outputId": "49cfa004-c4cc-494d-e126-e35d614c3fd9",
    "colab": {
     "base_uri": "https://localhost:8080/",
     "height": 284
    },
    "pycharm": {
     "is_executing": false
    }
   },
   "source": [
    "optimized"
   ],
   "execution_count": 55,
   "outputs": [
    {
     "data": {
      "text/plain": "  Classifier Name  Vectorizer Name  \\\n0     Naive Bayes  TfidfVectorizer   \n1     Naive Bayes  CountVectorizer   \n2   Decision Tree  TfidfVectorizer   \n3   Decision Tree  CountVectorizer   \n4             SVM  TfidfVectorizer   \n5             SVM  CountVectorizer   \n6      Perceptron  TfidfVectorizer   \n7      Perceptron  CountVectorizer   \n\n                                          Parameters  Accuracy  \n0  {'clf__alpha': 0.01, 'clf__fit_prior': True, '...  0.944211  \n1  {'clf__alpha': 1.0, 'clf__fit_prior': False, '...  0.947129  \n2  {'clf__criterion': 'gini', 'clf__max_features'...  0.802735  \n3  {'clf__criterion': 'entropy', 'clf__max_featur...  0.802188  \n4  {'clf__alpha': 0.0001, 'clf__penalty': 'l2', '...  0.971012  \n5  {'clf__alpha': 0.001, 'clf__penalty': 'l2', 'v...  0.967912  \n6  {'clf__alpha': 0.0001, 'clf__penalty': 'l2', '...  0.953145  \n7  {'clf__alpha': 0.0001, 'clf__penalty': 'l1', '...  0.962443  ",
      "text/html": "<div>\n<style scoped>\n    .dataframe tbody tr th:only-of-type {\n        vertical-align: middle;\n    }\n\n    .dataframe tbody tr th {\n        vertical-align: top;\n    }\n\n    .dataframe thead th {\n        text-align: right;\n    }\n</style>\n<table border=\"1\" class=\"dataframe\">\n  <thead>\n    <tr style=\"text-align: right;\">\n      <th></th>\n      <th>Classifier Name</th>\n      <th>Vectorizer Name</th>\n      <th>Parameters</th>\n      <th>Accuracy</th>\n    </tr>\n  </thead>\n  <tbody>\n    <tr>\n      <th>0</th>\n      <td>Naive Bayes</td>\n      <td>TfidfVectorizer</td>\n      <td>{'clf__alpha': 0.01, 'clf__fit_prior': True, '...</td>\n      <td>0.944211</td>\n    </tr>\n    <tr>\n      <th>1</th>\n      <td>Naive Bayes</td>\n      <td>CountVectorizer</td>\n      <td>{'clf__alpha': 1.0, 'clf__fit_prior': False, '...</td>\n      <td>0.947129</td>\n    </tr>\n    <tr>\n      <th>2</th>\n      <td>Decision Tree</td>\n      <td>TfidfVectorizer</td>\n      <td>{'clf__criterion': 'gini', 'clf__max_features'...</td>\n      <td>0.802735</td>\n    </tr>\n    <tr>\n      <th>3</th>\n      <td>Decision Tree</td>\n      <td>CountVectorizer</td>\n      <td>{'clf__criterion': 'entropy', 'clf__max_featur...</td>\n      <td>0.802188</td>\n    </tr>\n    <tr>\n      <th>4</th>\n      <td>SVM</td>\n      <td>TfidfVectorizer</td>\n      <td>{'clf__alpha': 0.0001, 'clf__penalty': 'l2', '...</td>\n      <td>0.971012</td>\n    </tr>\n    <tr>\n      <th>5</th>\n      <td>SVM</td>\n      <td>CountVectorizer</td>\n      <td>{'clf__alpha': 0.001, 'clf__penalty': 'l2', 'v...</td>\n      <td>0.967912</td>\n    </tr>\n    <tr>\n      <th>6</th>\n      <td>Perceptron</td>\n      <td>TfidfVectorizer</td>\n      <td>{'clf__alpha': 0.0001, 'clf__penalty': 'l2', '...</td>\n      <td>0.953145</td>\n    </tr>\n    <tr>\n      <th>7</th>\n      <td>Perceptron</td>\n      <td>CountVectorizer</td>\n      <td>{'clf__alpha': 0.0001, 'clf__penalty': 'l1', '...</td>\n      <td>0.962443</td>\n    </tr>\n  </tbody>\n</table>\n</div>"
     },
     "metadata": {},
     "output_type": "execute_result",
     "execution_count": 55
    }
   ]
  },
  {
   "cell_type": "code",
   "metadata": {
    "id": "QEX8EvIqj-wo",
    "colab_type": "code",
    "outputId": "0b2d5e4c-0f97-4a41-81ed-41c59e096043",
    "colab": {
     "base_uri": "https://localhost:8080/",
     "height": 168
    },
    "pycharm": {
     "is_executing": false
    }
   },
   "source": [
    "optimized = optimized.sort_values('Accuracy', ascending=False)\n",
    "print(\"The best model is \"+str(optimized.iloc[0]['Classifier Name'])+\" with \"+str(optimized.iloc[0]['Vectorizer Name'])+\" vectorizer\")\n",
    "print(\"The parameters of the model and the vectorizer are: \")\n",
    "for parameter in optimized.iloc[0]['Parameters']:\n",
    "  if \"stop_words\" in parameter:\n",
    "    print(\"stop_words: English,punctuation\")\n",
    "  else:\n",
    "    print(str(parameter)+\" : \"+str(optimized.iloc[0]['Parameters'][parameter]))\n",
    "\n",
    "#print(optimized.iloc[0]['Parameters'])\n",
    "print (\"The accuracy of the model is \"+str(optimized.iloc[0]['Accuracy']))\n"
   ],
   "execution_count": 57,
   "outputs": [
    {
     "name": "stdout",
     "text": [
      "The best model is SVM with TfidfVectorizer vectorizer\nThe parameters of the model and the vectorizer are: \nclf__alpha : 0.0001\nclf__penalty : l2\nvect__max_df : 0.5\nvect__ngram_range : (1, 2)\nstop_words: English,punctuation\nvect__sublinear_tf : True\nThe accuracy of the model is 0.9710118505013674\n"
     ],
     "output_type": "stream"
    }
   ]
  },
  {
   "cell_type": "markdown",
   "metadata": {
    "id": "gkYyqnc6muBJ",
    "colab_type": "text"
   },
   "source": [
    "# **Best Model Selected**"
   ]
  },
  {
   "cell_type": "markdown",
   "metadata": {
    "id": "3mEPyFUsm-X2",
    "colab_type": "text"
   },
   "source": [
    "The accuracy of the best model is: 0.9715587967183227<br><br>\n",
    "The permutation of feature extraction method and classifier which got the best score is : TfidfVectorizer (feature extraction method) and SVM (classifier).<br><br>\n",
    "The challenges were to find estimate which parameters we should optimize in order to get the best score that we can reach.  We handled those challenges by reading the documentation of each parameter we have used in order to reach the optimized score. In addition, running experiments was very helpful in this case."
   ]
  },
  {
   "cell_type": "markdown",
   "metadata": {
    "id": "GLVl0cCZlLd5",
    "colab_type": "text"
   },
   "source": [
    "# **Task challenges and Effective solutions**"
   ]
  },
  {
   "cell_type": "markdown",
   "metadata": {
    "id": "o8_QG2lgldaG",
    "colab_type": "text"
   },
   "source": [
    "Our main challenge in this task (documents classification) was to explore and find the best method to use for feature extraction for each classifier we have used. Moreover, tune each model parameters and optimize each permutation of feature extraction method and classifier was a difficult task.<br><br>\n",
    "Our main obstacle was in finding the classifier that we would use in this task. We found a big a variety of classifiers and we tried to understand which of them will suit our task in the best way. Effective solution for it was doing a small research in the Internet in order to understand which classifier will suit our task in the best way.<br><br>\n",
    "While trying each permutation of feature extraction method and classifier we got different accuracy’ scores and we realized that there are some feature extraction methods that match much better for a specific classifier. We handled this obstacle by trying different feature extraction methods and finally choose the best two for creating different permutation for our task (and by investigating each feature extraction we use with comparison of our needs).<br><br>\n",
    "Another big challenge we had in this task was the optimization of the models we have created. We thought how to choose the values of the hyper-parameters for optimal results. Our solution was to read about each classifier and research on the main hyper-parameters and experimenting different values until we have reached the best results for each permutation of feature extraction method and classifier.\n"
   ]
  }
 ]
}